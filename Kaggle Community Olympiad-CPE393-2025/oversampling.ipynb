{
 "cells": [
  {
   "cell_type": "code",
   "execution_count": 1,
   "metadata": {},
   "outputs": [],
   "source": [
    "import pandas as pd \n",
    "from imblearn.over_sampling import SMOTE\n",
    "from imblearn.under_sampling import RandomUnderSampler\n",
    "from collections import Counter"
   ]
  },
  {
   "cell_type": "code",
   "execution_count": 3,
   "metadata": {},
   "outputs": [
    {
     "data": {
      "text/plain": [
       "Status\n",
       "2    10108\n",
       "0     4520\n",
       "1      372\n",
       "Name: count, dtype: int64"
      ]
     },
     "execution_count": 3,
     "metadata": {},
     "output_type": "execute_result"
    }
   ],
   "source": [
    "train = pd.read_csv('train_selected_10features.csv')\n",
    "train.Status.value_counts()"
   ]
  },
  {
   "cell_type": "code",
   "execution_count": 3,
   "metadata": {},
   "outputs": [
    {
     "name": "stdout",
     "output_type": "stream",
     "text": [
      "Original class distribution: Counter({2: 10108, 0: 4520, 1: 372})\n",
      "Resampled class distribution: Counter({0: 4500, 1: 4500, 2: 4500})\n",
      "Balanced data saved as 'train_balanced.csv'\n"
     ]
    }
   ],
   "source": [
    "X= train.drop(columns=['Status'])\n",
    "y = train['Status']\n",
    "\n",
    "# ตรวจสอบข้อมูลก่อนทำการจัดการ class imbalance\n",
    "print(\"Original class distribution:\", Counter(y))\n",
    "\n",
    "# เริ่มทำ oversampling และ undersampling\n",
    "# ใช้ SMOTE เพื่อเพิ่มจำนวนตัวอย่างใน class 1 (จาก 372 เป็น 2000)\n",
    "smote = SMOTE(sampling_strategy={1: 4000}, random_state=42)\n",
    "\n",
    "# ใช้ RandomUnderSampler เพื่อลดตัวอย่างใน class 0 และ class 2 ลงเหลือ 2000\n",
    "undersample = RandomUnderSampler(sampling_strategy={0: 4000, 2: 4000}, random_state=42)\n",
    "\n",
    "# ทำการ oversampling และ undersampling\n",
    "X_resampled, y_resampled = smote.fit_resample(X, y)  # ทำ SMOTE ก่อน\n",
    "X_resampled, y_resampled = undersample.fit_resample(X_resampled, y_resampled)  # ทำ undersampling\n",
    "\n",
    "# ตรวจสอบข้อมูลหลังการทำ oversampling และ undersampling\n",
    "print(\"Resampled class distribution:\", Counter(y_resampled))\n",
    "\n",
    "# สร้าง DataFrame ใหม่หลังการจัดการ class imbalance\n",
    "train_balanced = pd.DataFrame(X_resampled, columns=X.columns)\n",
    "train_balanced['Status'] = y_resampled\n",
    "\n",
    "# บันทึกข้อมูลที่ได้รับการปรับสมดุลลงในไฟล์ใหม่\n",
    "train_balanced.to_csv('train_balanced_selected_3_4000each_10features.csv',index=False)\n",
    "\n",
    "print(\"Balanced data saved as 'train_balanced.csv'\")"
   ]
  },
  {
   "cell_type": "code",
   "execution_count": 4,
   "metadata": {},
   "outputs": [
    {
     "data": {
      "text/plain": [
       "Status\n",
       "0    4000\n",
       "1    4000\n",
       "2    4000\n",
       "Name: count, dtype: int64"
      ]
     },
     "execution_count": 4,
     "metadata": {},
     "output_type": "execute_result"
    }
   ],
   "source": [
    "df = pd.read_csv('train_balanced_selected.csv')\n",
    "df.Status.value_counts()"
   ]
  },
  {
   "cell_type": "code",
   "execution_count": null,
   "metadata": {},
   "outputs": [],
   "source": []
  }
 ],
 "metadata": {
  "kernelspec": {
   "display_name": "kaggle",
   "language": "python",
   "name": "python3"
  },
  "language_info": {
   "codemirror_mode": {
    "name": "ipython",
    "version": 3
   },
   "file_extension": ".py",
   "mimetype": "text/x-python",
   "name": "python",
   "nbconvert_exporter": "python",
   "pygments_lexer": "ipython3",
   "version": "3.10.16"
  }
 },
 "nbformat": 4,
 "nbformat_minor": 2
}
